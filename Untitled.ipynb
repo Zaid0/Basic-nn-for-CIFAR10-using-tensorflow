{
 "cells": [
  {
   "cell_type": "code",
   "execution_count": 67,
   "id": "9f919478",
   "metadata": {},
   "outputs": [],
   "source": [
    "from tensorflow.keras.datasets import cifar10\n",
    "from tensorflow.keras import Sequential\n",
    "import numpy as np\n",
    "import matplotlib.pyplot as plt\n",
    "%matplotlib inline\n",
    "import tensorflow as tf\n",
    "from tensorflow.keras.callbacks import TensorBoard"
   ]
  },
  {
   "cell_type": "code",
   "execution_count": 38,
   "id": "6dc4ad6f",
   "metadata": {},
   "outputs": [],
   "source": [
    "from tensorflow.keras.layers import Dense, Dropout, InputLayer, Flatten"
   ]
  },
  {
   "cell_type": "code",
   "execution_count": 61,
   "id": "13713a8d",
   "metadata": {},
   "outputs": [],
   "source": [
    "import os"
   ]
  },
  {
   "cell_type": "code",
   "execution_count": 39,
   "id": "8cf5d50c",
   "metadata": {},
   "outputs": [],
   "source": [
    "tf.random.set_seed(42)\n",
    "np.random.seed(42)"
   ]
  },
  {
   "cell_type": "code",
   "execution_count": 3,
   "id": "b8d3ce3d",
   "metadata": {},
   "outputs": [],
   "source": [
    "(X_train, y_train), (X_test, y_test)  = cifar10.load_data()"
   ]
  },
  {
   "cell_type": "code",
   "execution_count": 63,
   "id": "fd5bf8b8",
   "metadata": {},
   "outputs": [],
   "source": [
    "run_index = 1 # increment every time you train the model\n",
    "run_logdir = os.path.join(os.curdir, \"my_cifar10_logs\", \"run_{:03d}\".format(run_index))\n",
    "tensorboard_cb = tf.keras.callbacks.TensorBoard(run_logdir)"
   ]
  },
  {
   "cell_type": "code",
   "execution_count": 69,
   "id": "856d0fd1",
   "metadata": {},
   "outputs": [],
   "source": [
    "%load_ext tensorboard"
   ]
  },
  {
   "cell_type": "code",
   "execution_count": 75,
   "id": "e7e1dd5c",
   "metadata": {
    "scrolled": true
   },
   "outputs": [
    {
     "data": {
      "text/plain": [
       "Reusing TensorBoard on port 6006 (pid 16676), started 0:36:18 ago. (Use '!kill 16676' to kill it.)"
      ]
     },
     "metadata": {},
     "output_type": "display_data"
    },
    {
     "data": {
      "text/html": [
       "\n",
       "      <iframe id=\"tensorboard-frame-ace391bc1b53dd48\" width=\"100%\" height=\"800\" frameborder=\"0\">\n",
       "      </iframe>\n",
       "      <script>\n",
       "        (function() {\n",
       "          const frame = document.getElementById(\"tensorboard-frame-ace391bc1b53dd48\");\n",
       "          const url = new URL(\"/\", window.location);\n",
       "          const port = 6006;\n",
       "          if (port) {\n",
       "            url.port = port;\n",
       "          }\n",
       "          frame.src = url;\n",
       "        })();\n",
       "      </script>\n",
       "    "
      ],
      "text/plain": [
       "<IPython.core.display.HTML object>"
      ]
     },
     "metadata": {},
     "output_type": "display_data"
    }
   ],
   "source": [
    "%tensorboard --logdir=./my_cifar10_logs --port=6006"
   ]
  },
  {
   "cell_type": "code",
   "execution_count": 99,
   "id": "3aac2453",
   "metadata": {},
   "outputs": [],
   "source": [
    "es = tf.keras.callbacks.ReduceLROnPlateau(factor=0.5, patience=3, verbose=True)"
   ]
  },
  {
   "cell_type": "code",
   "execution_count": 104,
   "id": "82bad0c1",
   "metadata": {},
   "outputs": [
    {
     "name": "stdout",
     "output_type": "stream",
     "text": [
      "Epoch 1/100\n",
      "352/352 [==============================] - 12s 23ms/step - loss: 2.2315 - accuracy: 0.1913 - val_loss: 2.0897 - val_accuracy: 0.2360 - lr: 5.0000e-04\n",
      "Epoch 2/100\n",
      "352/352 [==============================] - 6s 17ms/step - loss: 1.9524 - accuracy: 0.2889 - val_loss: 1.8376 - val_accuracy: 0.3314 - lr: 5.0000e-04\n",
      "Epoch 3/100\n",
      "352/352 [==============================] - 6s 17ms/step - loss: 1.8527 - accuracy: 0.3293 - val_loss: 1.8178 - val_accuracy: 0.3458 - lr: 5.0000e-04\n",
      "Epoch 4/100\n",
      "352/352 [==============================] - 6s 16ms/step - loss: 1.7983 - accuracy: 0.3469 - val_loss: 1.8521 - val_accuracy: 0.3422 - lr: 5.0000e-04\n",
      "Epoch 5/100\n",
      "352/352 [==============================] - 6s 17ms/step - loss: 1.7392 - accuracy: 0.3730 - val_loss: 1.7376 - val_accuracy: 0.3708 - lr: 5.0000e-04\n",
      "Epoch 6/100\n",
      "352/352 [==============================] - 6s 18ms/step - loss: 1.7035 - accuracy: 0.3873 - val_loss: 1.7106 - val_accuracy: 0.3934 - lr: 5.0000e-04\n",
      "Epoch 7/100\n",
      "352/352 [==============================] - 6s 17ms/step - loss: 1.6658 - accuracy: 0.4012 - val_loss: 1.6492 - val_accuracy: 0.4210 - lr: 5.0000e-04\n",
      "Epoch 8/100\n",
      "352/352 [==============================] - 6s 17ms/step - loss: 1.6305 - accuracy: 0.4138 - val_loss: 1.6615 - val_accuracy: 0.4038 - lr: 5.0000e-04\n",
      "Epoch 9/100\n",
      "352/352 [==============================] - 6s 17ms/step - loss: 1.6045 - accuracy: 0.4248 - val_loss: 1.6663 - val_accuracy: 0.4110 - lr: 5.0000e-04\n",
      "Epoch 10/100\n",
      "352/352 [==============================] - 6s 16ms/step - loss: 1.5728 - accuracy: 0.4380 - val_loss: 1.6141 - val_accuracy: 0.4354 - lr: 5.0000e-04\n",
      "Epoch 11/100\n",
      "352/352 [==============================] - 6s 16ms/step - loss: 1.5457 - accuracy: 0.4484 - val_loss: 1.5968 - val_accuracy: 0.4356 - lr: 5.0000e-04\n",
      "Epoch 12/100\n",
      "352/352 [==============================] - 6s 17ms/step - loss: 1.5224 - accuracy: 0.4542 - val_loss: 1.6006 - val_accuracy: 0.4342 - lr: 5.0000e-04\n",
      "Epoch 13/100\n",
      "352/352 [==============================] - 6s 17ms/step - loss: 1.5019 - accuracy: 0.4669 - val_loss: 1.5710 - val_accuracy: 0.4348 - lr: 5.0000e-04\n",
      "Epoch 14/100\n",
      "352/352 [==============================] - 6s 17ms/step - loss: 1.4828 - accuracy: 0.4733 - val_loss: 1.6027 - val_accuracy: 0.4322 - lr: 5.0000e-04\n",
      "Epoch 15/100\n",
      "352/352 [==============================] - 6s 17ms/step - loss: 1.4644 - accuracy: 0.4800 - val_loss: 1.5375 - val_accuracy: 0.4620 - lr: 5.0000e-04\n",
      "Epoch 16/100\n",
      "352/352 [==============================] - 6s 17ms/step - loss: 1.4424 - accuracy: 0.4864 - val_loss: 1.5962 - val_accuracy: 0.4376 - lr: 5.0000e-04\n",
      "Epoch 17/100\n",
      "352/352 [==============================] - 6s 17ms/step - loss: 1.4257 - accuracy: 0.4926 - val_loss: 1.5438 - val_accuracy: 0.4556 - lr: 5.0000e-04\n",
      "Epoch 18/100\n",
      "351/352 [============================>.] - ETA: 0s - loss: 1.4068 - accuracy: 0.5024\n",
      "Epoch 18: ReduceLROnPlateau reducing learning rate to 0.0002500000118743628.\n",
      "352/352 [==============================] - 6s 17ms/step - loss: 1.4065 - accuracy: 0.5024 - val_loss: 1.5408 - val_accuracy: 0.4534 - lr: 5.0000e-04\n",
      "Epoch 19/100\n",
      "352/352 [==============================] - 6s 17ms/step - loss: 1.3295 - accuracy: 0.5277 - val_loss: 1.4978 - val_accuracy: 0.4718 - lr: 2.5000e-04\n",
      "Epoch 20/100\n",
      "352/352 [==============================] - 6s 17ms/step - loss: 1.3065 - accuracy: 0.5358 - val_loss: 1.4869 - val_accuracy: 0.4820 - lr: 2.5000e-04\n",
      "Epoch 21/100\n",
      "352/352 [==============================] - 6s 17ms/step - loss: 1.2895 - accuracy: 0.5426 - val_loss: 1.4780 - val_accuracy: 0.4848 - lr: 2.5000e-04\n",
      "Epoch 22/100\n",
      "352/352 [==============================] - 6s 16ms/step - loss: 1.2735 - accuracy: 0.5476 - val_loss: 1.4771 - val_accuracy: 0.4876 - lr: 2.5000e-04\n",
      "Epoch 23/100\n",
      "352/352 [==============================] - 5s 15ms/step - loss: 1.2601 - accuracy: 0.5558 - val_loss: 1.4789 - val_accuracy: 0.4852 - lr: 2.5000e-04\n",
      "Epoch 24/100\n",
      "352/352 [==============================] - 6s 17ms/step - loss: 1.2429 - accuracy: 0.5583 - val_loss: 1.4897 - val_accuracy: 0.4856 - lr: 2.5000e-04\n",
      "Epoch 25/100\n",
      "350/352 [============================>.] - ETA: 0s - loss: 1.2299 - accuracy: 0.5621\n",
      "Epoch 25: ReduceLROnPlateau reducing learning rate to 0.0001250000059371814.\n",
      "352/352 [==============================] - 6s 16ms/step - loss: 1.2300 - accuracy: 0.5620 - val_loss: 1.5101 - val_accuracy: 0.4668 - lr: 2.5000e-04\n",
      "Epoch 26/100\n",
      "352/352 [==============================] - 6s 17ms/step - loss: 1.1664 - accuracy: 0.5887 - val_loss: 1.5254 - val_accuracy: 0.4826 - lr: 1.2500e-04\n",
      "Epoch 27/100\n",
      "352/352 [==============================] - 6s 16ms/step - loss: 1.1483 - accuracy: 0.5924 - val_loss: 1.5049 - val_accuracy: 0.4840 - lr: 1.2500e-04\n",
      "Epoch 28/100\n",
      "352/352 [==============================] - ETA: 0s - loss: 1.1307 - accuracy: 0.5990\n",
      "Epoch 28: ReduceLROnPlateau reducing learning rate to 6.25000029685907e-05.\n",
      "352/352 [==============================] - 6s 16ms/step - loss: 1.1307 - accuracy: 0.5990 - val_loss: 1.5375 - val_accuracy: 0.4846 - lr: 1.2500e-04\n",
      "Epoch 29/100\n",
      "352/352 [==============================] - 6s 17ms/step - loss: 1.0902 - accuracy: 0.6151 - val_loss: 1.5371 - val_accuracy: 0.4842 - lr: 6.2500e-05\n",
      "Epoch 30/100\n",
      "352/352 [==============================] - 6s 16ms/step - loss: 1.0762 - accuracy: 0.6187 - val_loss: 1.5418 - val_accuracy: 0.4860 - lr: 6.2500e-05\n",
      "Epoch 31/100\n",
      "351/352 [============================>.] - ETA: 0s - loss: 1.0653 - accuracy: 0.6261\n",
      "Epoch 31: ReduceLROnPlateau reducing learning rate to 3.125000148429535e-05.\n",
      "352/352 [==============================] - 6s 16ms/step - loss: 1.0651 - accuracy: 0.6262 - val_loss: 1.5534 - val_accuracy: 0.4828 - lr: 6.2500e-05\n",
      "Epoch 32/100\n",
      "352/352 [==============================] - 6s 16ms/step - loss: 1.0401 - accuracy: 0.6329 - val_loss: 1.5655 - val_accuracy: 0.4852 - lr: 3.1250e-05\n",
      "Epoch 33/100\n",
      "352/352 [==============================] - 6s 17ms/step - loss: 1.0314 - accuracy: 0.6376 - val_loss: 1.5695 - val_accuracy: 0.4878 - lr: 3.1250e-05\n",
      "Epoch 34/100\n",
      "350/352 [============================>.] - ETA: 0s - loss: 1.0263 - accuracy: 0.6390\n",
      "Epoch 34: ReduceLROnPlateau reducing learning rate to 1.5625000742147677e-05.\n",
      "352/352 [==============================] - 6s 16ms/step - loss: 1.0264 - accuracy: 0.6389 - val_loss: 1.5738 - val_accuracy: 0.4884 - lr: 3.1250e-05\n",
      "Epoch 35/100\n",
      "352/352 [==============================] - 6s 16ms/step - loss: 1.0109 - accuracy: 0.6458 - val_loss: 1.5813 - val_accuracy: 0.4904 - lr: 1.5625e-05\n",
      "Epoch 36/100\n",
      "352/352 [==============================] - 6s 18ms/step - loss: 1.0070 - accuracy: 0.6472 - val_loss: 1.5875 - val_accuracy: 0.4856 - lr: 1.5625e-05\n",
      "Epoch 37/100\n",
      "351/352 [============================>.] - ETA: 0s - loss: 1.0041 - accuracy: 0.6472\n",
      "Epoch 37: ReduceLROnPlateau reducing learning rate to 7.812500371073838e-06.\n",
      "352/352 [==============================] - 7s 19ms/step - loss: 1.0040 - accuracy: 0.6473 - val_loss: 1.5887 - val_accuracy: 0.4880 - lr: 1.5625e-05\n",
      "Epoch 38/100\n",
      "352/352 [==============================] - 7s 19ms/step - loss: 0.9965 - accuracy: 0.6494 - val_loss: 1.5953 - val_accuracy: 0.4868 - lr: 7.8125e-06\n",
      "Epoch 39/100\n",
      "352/352 [==============================] - 7s 19ms/step - loss: 0.9936 - accuracy: 0.6513 - val_loss: 1.6005 - val_accuracy: 0.4876 - lr: 7.8125e-06\n",
      "Epoch 40/100\n",
      "351/352 [============================>.] - ETA: 0s - loss: 0.9926 - accuracy: 0.6522\n",
      "Epoch 40: ReduceLROnPlateau reducing learning rate to 3.906250185536919e-06.\n",
      "352/352 [==============================] - 7s 19ms/step - loss: 0.9930 - accuracy: 0.6520 - val_loss: 1.5975 - val_accuracy: 0.4874 - lr: 7.8125e-06\n",
      "Epoch 41/100\n",
      "352/352 [==============================] - 6s 18ms/step - loss: 0.9886 - accuracy: 0.6537 - val_loss: 1.6022 - val_accuracy: 0.4860 - lr: 3.9063e-06\n",
      "Epoch 42/100\n",
      "352/352 [==============================] - 7s 19ms/step - loss: 0.9863 - accuracy: 0.6554 - val_loss: 1.6040 - val_accuracy: 0.4874 - lr: 3.9063e-06\n",
      "Epoch 42: early stopping\n"
     ]
    },
    {
     "data": {
      "text/plain": [
       "<keras.callbacks.History at 0x212ffb34670>"
      ]
     },
     "execution_count": 104,
     "metadata": {},
     "output_type": "execute_result"
    }
   ],
   "source": [
    "n_hidden=20\n",
    "n_neourons = 100\n",
    "activation='selu'\n",
    "kernel_initializer='lecun_normal'\n",
    "optimizer = tf.keras.optimizers.Nadam(5e-4)\n",
    "early_stopping = tf.keras.callbacks.EarlyStopping(patience=20,verbose=True)\n",
    "batch_size=128\n",
    "tf.keras.backend.clear_session()\n",
    "model = tf.keras.Sequential()\n",
    "\n",
    "model.add(Flatten(input_shape=[32, 32, 3]))\n",
    "for i in range(n_hidden):\n",
    "            model.add(Dense(n_neourons, kernel_initializer=kernel_initializer,\n",
    "                               activation=activation))\n",
    "            tf.keras.layers.BatchNormalization()\n",
    "            \n",
    "model.add(Dropout(0.1))\n",
    "\n",
    "model.add(Dense(10,activation=tf.keras.activations.softmax))\n",
    "\n",
    "model.compile(loss =\"sparse_categorical_crossentropy\",\n",
    "                      optimizer = optimizer, \n",
    "                      metrics = ['accuracy']\n",
    "                      )\n",
    "model.fit(X_train, y_train,\n",
    "                 validation_split=0.1,\n",
    "                 epochs=100, batch_size = batch_size,\n",
    "                 callbacks = [early_stopping, tensorboard_cb, es], verbose = True,\n",
    "                 shuffle = True\n",
    "                 )"
   ]
  },
  {
   "cell_type": "code",
   "execution_count": null,
   "id": "8ea36a77",
   "metadata": {},
   "outputs": [],
   "source": [
    "model_nn()"
   ]
  },
  {
   "cell_type": "code",
   "execution_count": null,
   "id": "61174cd5",
   "metadata": {},
   "outputs": [],
   "source": []
  }
 ],
 "metadata": {
  "kernelspec": {
   "display_name": "Python 3 (ipykernel)",
   "language": "python",
   "name": "python3"
  },
  "language_info": {
   "codemirror_mode": {
    "name": "ipython",
    "version": 3
   },
   "file_extension": ".py",
   "mimetype": "text/x-python",
   "name": "python",
   "nbconvert_exporter": "python",
   "pygments_lexer": "ipython3",
   "version": "3.9.7"
  }
 },
 "nbformat": 4,
 "nbformat_minor": 5
}
